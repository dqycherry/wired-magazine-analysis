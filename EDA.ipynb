{
 "cells": [
  {
   "cell_type": "code",
   "execution_count": null,
   "id": "2b5dfd18-9766-40ff-88a1-d687d4e99810",
   "metadata": {},
   "outputs": [],
   "source": [
    "import pandas as pd\n",
    "\n",
    "# Load dataset\n",
    "df = pd.read_excel(\"ai_articles_with_person_cleaned.xlsx\")\n",
    "\n",
    "# Convert 'date' column (year-month format) into datetime\n",
    "df['date'] = pd.to_datetime(df['date'], format='%Y-%m')\n",
    "\n",
    "# Extract year into a new column\n",
    "df['year'] = df['date'].dt.year\n",
    "\n",
    "# Save a new file with the added year column\n",
    "df.to_excel(\"ai_articles_with_person_year.xlsx\", index=False)\n",
    "\n",
    "print(df[['date', 'year']].head())\n"
   ]
  },
  {
   "cell_type": "code",
   "execution_count": null,
   "id": "00767973-d411-4586-892c-4f137008237c",
   "metadata": {},
   "outputs": [],
   "source": [
    "import pandas as pd\n",
    "import matplotlib.pyplot as plt\n",
    "import seaborn as sns\n",
    "\n",
    "# -----------------------------\n",
    "# Load dataset\n",
    "# -----------------------------\n",
    "df = pd.read_excel(\"ai_articles_with_person_year.xlsx\")\n",
    "\n",
    "# Compute word count for each article\n",
    "df['word_count'] = df['text_cleaned_final'].apply(lambda x: len(str(x).split()))\n",
    "\n",
    "# -----------------------------\n",
    "# 1. Number of articles per year\n",
    "# -----------------------------\n",
    "year_counts = df['year'].value_counts().sort_index()\n",
    "\n",
    "plt.figure(figsize=(10,5))\n",
    "sns.barplot(x=year_counts.index, y=year_counts.values, color=\"steelblue\")\n",
    "plt.xticks(rotation=45)\n",
    "plt.title(\"Number of AI Articles with Person Images per Year\")\n",
    "plt.xlabel(\"Year\")\n",
    "plt.ylabel(\"Article Count\")\n",
    "plt.tight_layout()\n",
    "plt.show()\n",
    "\n",
    "# -----------------------------\n",
    "# 2. Distribution of article length\n",
    "# -----------------------------\n",
    "plt.figure(figsize=(10,5))\n",
    "sns.histplot(df['word_count'], bins=50, kde=True, color=\"darkred\")\n",
    "plt.title(\"Distribution of Article Word Counts\")\n",
    "plt.xlabel(\"Word Count\")\n",
    "plt.ylabel(\"Frequency\")\n",
    "plt.tight_layout()\n",
    "plt.show()\n",
    "\n",
    "# -----------------------------\n",
    "# 3. Average article length by year\n",
    "# -----------------------------\n",
    "avg_length_by_year = df.groupby('year')['word_count'].mean()\n",
    "\n",
    "plt.figure(figsize=(10,5))\n",
    "sns.lineplot(x=avg_length_by_year.index, y=avg_length_by_year.values, marker=\"o\", color=\"darkgreen\")\n",
    "plt.title(\"Average Article Word Count per Year\")\n",
    "plt.xlabel(\"Year\")\n",
    "plt.ylabel(\"Average Word Count\")\n",
    "plt.tight_layout()\n",
    "plt.show()\n"
   ]
  }
 ],
 "metadata": {
  "kernelspec": {
   "display_name": "Python 3 (ipykernel)",
   "language": "python",
   "name": "python3"
  },
  "language_info": {
   "codemirror_mode": {
    "name": "ipython",
    "version": 3
   },
   "file_extension": ".py",
   "mimetype": "text/x-python",
   "name": "python",
   "nbconvert_exporter": "python",
   "pygments_lexer": "ipython3",
   "version": "3.12.4"
  }
 },
 "nbformat": 4,
 "nbformat_minor": 5
}
